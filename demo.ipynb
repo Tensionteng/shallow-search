{
 "cells": [
  {
   "cell_type": "code",
   "execution_count": 26,
   "id": "ce734120",
   "metadata": {},
   "outputs": [
    {
     "data": {
      "text/plain": [
       "[{'id': '2hop__152921_19219_0',\n",
       "  'title': 'Paris',\n",
       "  'preview': 'Paris (French pronunciation: \\u200b (paʁi) (listen)) is the capital and most populous city in France, with an administrative - limits area of 105 square ki...',\n",
       "  'rerank_score': 0.9984802603721619},\n",
       " {'id': '3hop1__238983_403313_22725_8',\n",
       "  'title': 'Strasbourg',\n",
       "  'preview': 'Strasbourg (/ˈstræzbɜːrɡ/, French pronunciation: \\u200b[stʁaz.buʁ, stʁas.buʁ]; Alsatian: Strossburi; German: Straßburg, [ˈʃtʁaːsbʊɐ̯k]) is the capital and ...',\n",
       "  'rerank_score': 0.9896302819252014},\n",
       " {'id': '3hop1__161098_80462_90300_1',\n",
       "  'title': 'Marseille',\n",
       "  'preview': 'Marseille (English / mɑːrˈseɪ /; French: (maʁsɛj) (listen), locally: (mɑχˈsɛjə); Provençal Marselha (maʀˈsejɔ, maʀˈsijɔ)), also known as Marseilles, i...',\n",
       "  'rerank_score': 0.9142785668373108},\n",
       " {'id': '2hop__661_26316_14',\n",
       "  'title': 'French Second Republic',\n",
       "  'preview': \"French Republic République française 1848 -- 1852 Flag Great Seal Motto Liberté, Égalité, Fraternité ``Liberty, Equality, Fraternity ''Anthem Le Chant...\",\n",
       "  'rerank_score': 0.7298417091369629},\n",
       " {'id': '4hop1__404363_705261_41881_27337_15',\n",
       "  'title': 'Outline of France',\n",
       "  'preview': 'France -- country in Western Europe with several overseas regions and territories. Metropolitan France extends from the Mediterranean Sea to the Engli...',\n",
       "  'rerank_score': 0.007545509375631809},\n",
       " {'id': '3hop1__11207_210788_3752_12',\n",
       "  'title': 'Tourism in France',\n",
       "  'preview': 'Notre Dame de Paris (13.6 million), Basilique du Sacré - Coeur (10.5 million), Louvre Museum (8.5 million), Eiffel Tower (6.2 million), Palace of Vers...',\n",
       "  'rerank_score': 0.0013671207707375288}]"
      ]
     },
     "execution_count": 26,
     "metadata": {},
     "output_type": "execute_result"
    }
   ],
   "source": [
    "import requests\n",
    "\n",
    "url = \"http://localhost:8000/retrieve\"\n",
    "\n",
    "\n",
    "response = requests.post(url, json={\n",
    "    \"query\": [\"What is the capital of France?\", \"Explain the theory of relativity.\"],\n",
    "    \"top_k\": 5,\n",
    "})\n",
    "\n",
    "# response = requests.get(url)\n",
    "\n",
    "response.json()[0]"
   ]
  },
  {
   "cell_type": "code",
   "execution_count": 32,
   "id": "4c84dff1",
   "metadata": {},
   "outputs": [
    {
     "data": {
      "text/plain": [
       "[{'id': '3hop1__11207_210788_3752_12',\n",
       "  'title': 'Tourism in France',\n",
       "  'full_text': \"Notre Dame de Paris (13.6 million), Basilique du Sacré - Coeur (10.5 million), Louvre Museum (8.5 million), Eiffel Tower (6.2 million), Palace of Versailles (6 million), Centre Pompidou (3.6 million), Musée d'Orsay (2.9 million), Musée du quai Branly (1.3 million), Arc de Triomphe (1.2 million), Mont Saint - Michel (1 million), Notre - Dame de la Garde, Marseille (800,000), Château de Chambord (711,000), Sainte - Chapelle (683,000), Metz Cathedral (652,000), Bastille (Grenoble) (600 000) Centre Pompidou - Metz (550,000), Château du Haut - Kœnigsbourg (549,000), Puy de Dôme (500,000), Musée Picasso (441,000), Carcassonne (362,000).\"},\n",
       " {'id': '4hop1__404363_705261_41881_27337_15',\n",
       "  'title': 'Outline of France',\n",
       "  'full_text': \"France -- country in Western Europe with several overseas regions and territories. Metropolitan France extends from the Mediterranean Sea to the English Channel and the North Sea, and from the Rhine to the Atlantic Ocean. From its shape, it is often referred to in French as l'Hexagone (``The Hexagon '').\"}]"
      ]
     },
     "execution_count": 32,
     "metadata": {},
     "output_type": "execute_result"
    }
   ],
   "source": [
    "url = \"http://localhost:8000/scrape\"\n",
    "\n",
    "\n",
    "response = requests.post(url, json={\n",
    "    \"id\": [\"4hop1__404363_705261_41881_27337_15\", \"3hop1__11207_210788_3752_12\"],\n",
    "})\n",
    "\n",
    "# response = requests.get(url)\n",
    "\n",
    "response.json()"
   ]
  }
 ],
 "metadata": {
  "kernelspec": {
   "display_name": "shallow-search",
   "language": "python",
   "name": "python3"
  },
  "language_info": {
   "codemirror_mode": {
    "name": "ipython",
    "version": 3
   },
   "file_extension": ".py",
   "mimetype": "text/x-python",
   "name": "python",
   "nbconvert_exporter": "python",
   "pygments_lexer": "ipython3",
   "version": "3.10.18"
  }
 },
 "nbformat": 4,
 "nbformat_minor": 5
}
