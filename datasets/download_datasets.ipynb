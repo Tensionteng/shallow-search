{
 "cells": [
  {
   "cell_type": "code",
   "execution_count": 5,
   "id": "88b73f8d",
   "metadata": {},
   "outputs": [
    {
     "data": {
      "text/plain": [
       "Dataset({\n",
       "    features: ['id', 'paragraphs', 'question', 'answer', 'answer_aliases', 'context', 'citations'],\n",
       "    num_rows: 19938\n",
       "})"
      ]
     },
     "execution_count": 5,
     "metadata": {},
     "output_type": "execute_result"
    }
   ],
   "source": [
    "from datasets import load_dataset\n",
    "\n",
    "# Login using e.g. `huggingface-cli login` to access this dataset\n",
    "ds = load_dataset(\"jerry128/Musique-Ans-Train-CL-Sorted-By-Hops\", cache_dir=\"./Musique\", split=\"train\")\n",
    "\n",
    "ds"
   ]
  },
  {
   "cell_type": "code",
   "execution_count": 7,
   "id": "c0438ea5",
   "metadata": {},
   "outputs": [
    {
     "name": "stdout",
     "output_type": "stream",
     "text": [
      "1960\n",
      "[]\n"
     ]
    }
   ],
   "source": [
    "print(ds[0][\"answer\"])\n",
    "print(ds[0][\"answer_aliases\"])"
   ]
  },
  {
   "cell_type": "code",
   "execution_count": null,
   "id": "8aff5557",
   "metadata": {},
   "outputs": [
    {
     "name": "stdout",
     "output_type": "stream",
     "text": [
      "18123\n"
     ]
    }
   ],
   "source": [
    "# 将数据展平，处理成想要的格式，方便后续嵌入\n",
    "from datasets import Dataset\n",
    "flatten_ds = []\n",
    "for id, paragraphs in zip(ds[\"id\"], ds[\"paragraphs\"]):\n",
    "    for para in paragraphs:\n",
    "        idx = para[\"idx\"]  # 段落的索引\n",
    "        text = para[\"paragraph_text\"]  # 段落内容\n",
    "        title = para[\"title\"]  # 段落标题\n",
    "        flatten_ds.append(\n",
    "            {\n",
    "                \"id\": f\"{id}_{idx}\",  # 创建一个唯一的段落ID\n",
    "                \"title\": title,  # 段落标题\n",
    "                \"text\": text,\n",
    "                \"hop\": int(id[0]),\n",
    "            }\n",
    "        )\n",
    "\n",
    "flatten_ds = Dataset.from_list(flatten_ds)\n",
    "flatten_ds"
   ]
  },
  {
   "cell_type": "code",
   "execution_count": null,
   "id": "87f30f56",
   "metadata": {},
   "outputs": [],
   "source": [
    "# 可选是否保存\n",
    "flatten_ds.save_to_disk(\"./Musique_flattened\")\n",
    "flatten_ds.to_parquet(\"./Musique_flattened/Musique_flattened.parquet\")"
   ]
  },
  {
   "cell_type": "code",
   "execution_count": 2,
   "id": "d2e52272",
   "metadata": {},
   "outputs": [],
   "source": [
    "def make_prefix(dp):\n",
    "    question = dp[\"question\"]\n",
    "\n",
    "    # NOTE: also need to change reward_score/countdown.py\n",
    "    prefix = f\"\"\"You are an efficient research assistant. Your goal is to answer the question by using tool to find information. You can search and scrape as many times as your want.\n",
    "    If you need to use tool, you should first search for relevant documents, and then scrape the content of the documents to answer the question.\n",
    "    If you find no further external knowledge needed, you can directly provide the answer inside <answer> and </answer>, without detailed illustrations. For example, <answer> Beijing </answer>.\n",
    "\n",
    "**Available tool:**\n",
    "1. `websearch`: Use a query to search for documents. It returns a list of results containing a `doc_id`, `title`, and `preview`.\n",
    "2. `scrape`: Use a `doc_id` obtained from `websearch` to read the full content of a document.\n",
    "\n",
    "**Instructions:**\n",
    "- You MUST call tool using this exact format: <tool_call>{{\"name\": \"tool_call_name\", \"args\": {{\"key\": \"value\"}}}}</tool_call>\n",
    "- Once you have gathered enough information, provide the final, concise answer inside <answer></answer> tags.\n",
    "\n",
    "**Example:**\n",
    "user:\n",
    "When was the institute that owned The Collegian founded?\n",
    "\n",
    "assistant:\n",
    "<tool_call>{{\"name\": \"websearch\", \"args\": {{\"query\": \"institute that owns The Collegian\"}}}}</tool_call>\n",
    "\n",
    "tool:\n",
    "<result>[{{\"id\": \"doc_101\", \"title\": \"The Collegian (Houston Baptist University)\", \"preview\": \"The Collegian is the official student publication of Houston Baptist University in Houston, Texas...\"}},\n",
    " {{\"id\": \"doc_202\", \"title\": \"Houston\", \"preview\": \"Several private institutions of higher learning are located within the city, including Houston Baptist University...\"}}]</result>\n",
    "\n",
    "assistant:\n",
    "<tool_call>{{\"name\": \"scrape\", \"args\": {{\"doc_ids\": \"doc_202\"}}}}</tool_call>\n",
    "\n",
    "tool:\n",
    "<result>Several private institutions of higher learning—ranging from liberal arts colleges, such as The University of St. Thomas, to Rice University—are located within the city... Houston Baptist University, affiliated with the Baptist General Convention of Texas, offers bachelor's and graduate degrees. It was founded in 1960 and is located in the Sharpstown area in Southwest Houston.</result>\n",
    "\n",
    "assistant:\n",
    "<answer> 1960 </answer>\n",
    "\n",
    "---\n",
    "Now, answer the following question.\n",
    "Question: {question}\"\"\"\n",
    "\n",
    "    return prefix\n",
    "\n",
    "\n",
    "# add a row to each data item that represents a unique id\n",
    "def make_map_fn(split):\n",
    "\n",
    "    def process_fn(example, idx):\n",
    "        example[\"question\"] = example[\"question\"].strip()\n",
    "        if example[\"question\"][-1] != \"?\":\n",
    "            example[\"question\"] += \"?\"\n",
    "        question = make_prefix(example)\n",
    "        solution = {\n",
    "            \"target\": example[\"answer\"],\n",
    "        }\n",
    "\n",
    "        data = {\n",
    "            \"data_source\": \"oringinal_dataset(Musique)\",\n",
    "            \"prompt\": [\n",
    "                {\n",
    "                    \"role\": \"user\",\n",
    "                    \"content\": question,\n",
    "                }\n",
    "            ],\n",
    "            \"ability\": \"fact-reasoning\",\n",
    "            \"reward_model\": {\"style\": \"rule\", \"ground_truth\": solution},\n",
    "            \"extra_info\": {\n",
    "                \"split\": split,\n",
    "                \"index\": idx,\n",
    "            },\n",
    "        }\n",
    "        return data\n",
    "\n",
    "    return process_fn\n"
   ]
  },
  {
   "cell_type": "code",
   "execution_count": 1,
   "id": "c2681624",
   "metadata": {},
   "outputs": [
    {
     "ename": "NameError",
     "evalue": "name 'ds' is not defined",
     "output_type": "error",
     "traceback": [
      "\u001b[0;31m---------------------------------------------------------------------------\u001b[0m",
      "\u001b[0;31mNameError\u001b[0m                                 Traceback (most recent call last)",
      "Cell \u001b[0;32mIn[1], line 1\u001b[0m\n\u001b[0;32m----> 1\u001b[0m train_dataset \u001b[38;5;241m=\u001b[39m \u001b[43mds\u001b[49m\u001b[38;5;241m.\u001b[39mmap(function\u001b[38;5;241m=\u001b[39mmake_map_fn(\u001b[38;5;124m\"\u001b[39m\u001b[38;5;124mtrain\u001b[39m\u001b[38;5;124m\"\u001b[39m), with_indices\u001b[38;5;241m=\u001b[39m\u001b[38;5;28;01mTrue\u001b[39;00m)\n\u001b[1;32m      3\u001b[0m train_dataset\u001b[38;5;241m.\u001b[39mto_parquet(\u001b[38;5;124m\"\u001b[39m\u001b[38;5;124m./Musique_RL/train.parquet\u001b[39m\u001b[38;5;124m\"\u001b[39m)\n",
      "\u001b[0;31mNameError\u001b[0m: name 'ds' is not defined"
     ]
    }
   ],
   "source": [
    "train_dataset = ds.map(function=make_map_fn(\"train\"), with_indices=True)\n",
    "\n",
    "train_dataset.to_parquet(\"./Musique_RL/train.parquet\")"
   ]
  },
  {
   "cell_type": "code",
   "execution_count": 3,
   "id": "c32511ad",
   "metadata": {},
   "outputs": [
    {
     "data": {
      "application/vnd.jupyter.widget-view+json": {
       "model_id": "ab323434d1a04223a11ee08506b7a4b9",
       "version_major": 2,
       "version_minor": 0
      },
      "text/plain": [
       "README.md:   0%|          | 0.00/292 [00:00<?, ?B/s]"
      ]
     },
     "metadata": {},
     "output_type": "display_data"
    },
    {
     "data": {
      "application/vnd.jupyter.widget-view+json": {
       "model_id": "3812cd423a8244118287e1fc4a13b4bf",
       "version_major": 2,
       "version_minor": 0
      },
      "text/plain": [
       "train-00000-of-00001.parquet:   0%|          | 0.00/12.2M [00:00<?, ?B/s]"
      ]
     },
     "metadata": {},
     "output_type": "display_data"
    },
    {
     "data": {
      "application/vnd.jupyter.widget-view+json": {
       "model_id": "58b3a6a9988e4ed08fdbb03bd8b1fb98",
       "version_major": 2,
       "version_minor": 0
      },
      "text/plain": [
       "Generating train split:   0%|          | 0/1000 [00:00<?, ? examples/s]"
      ]
     },
     "metadata": {},
     "output_type": "display_data"
    },
    {
     "data": {
      "application/vnd.jupyter.widget-view+json": {
       "model_id": "46c65f5db1ab404594295906859a7833",
       "version_major": 2,
       "version_minor": 0
      },
      "text/plain": [
       "Map:   0%|          | 0/1000 [00:00<?, ? examples/s]"
      ]
     },
     "metadata": {},
     "output_type": "display_data"
    },
    {
     "data": {
      "application/vnd.jupyter.widget-view+json": {
       "model_id": "b9009e2b69a04898b0c4d1efe8ba08a0",
       "version_major": 2,
       "version_minor": 0
      },
      "text/plain": [
       "Creating parquet from Arrow format:   0%|          | 0/1 [00:00<?, ?ba/s]"
      ]
     },
     "metadata": {},
     "output_type": "display_data"
    },
    {
     "data": {
      "text/plain": [
       "23425819"
      ]
     },
     "execution_count": 3,
     "metadata": {},
     "output_type": "execute_result"
    }
   ],
   "source": [
    "from datasets import load_dataset\n",
    "\n",
    "# Login using e.g. `huggingface-cli login` to access this dataset\n",
    "ds = load_dataset(\"jerry128/Musique-Ans-Eval-1000\", cache_dir=\"./Musique\", split=\"train\")\n",
    "\n",
    "train_dataset = ds.map(function=make_map_fn(\"test\"), with_indices=True)\n",
    "\n",
    "train_dataset.to_parquet(\"./Musique_RL/test.parquet\")\n"
   ]
  }
 ],
 "metadata": {
  "kernelspec": {
   "display_name": "qwen-rl",
   "language": "python",
   "name": "python3"
  },
  "language_info": {
   "codemirror_mode": {
    "name": "ipython",
    "version": 3
   },
   "file_extension": ".py",
   "mimetype": "text/x-python",
   "name": "python",
   "nbconvert_exporter": "python",
   "pygments_lexer": "ipython3",
   "version": "3.10.18"
  }
 },
 "nbformat": 4,
 "nbformat_minor": 5
}
