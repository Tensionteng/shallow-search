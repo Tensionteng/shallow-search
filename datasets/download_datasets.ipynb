{
 "cells": [
  {
   "cell_type": "code",
   "execution_count": 1,
   "id": "88b73f8d",
   "metadata": {},
   "outputs": [
    {
     "name": "stderr",
     "output_type": "stream",
     "text": [
      "Using the latest cached version of the dataset since jerry128/Musique-Ans-Train-CL-Sorted-By-Hops couldn't be found on the Hugging Face Hub\n",
      "Found the latest cached dataset configuration 'default' at Musique/jerry128___musique-ans-train-cl-sorted-by-hops/default/0.0.0/b2917a388aa4a35c355e71782630d3f1b18ae5ef (last modified on Mon Jul 14 05:56:42 2025).\n"
     ]
    },
    {
     "data": {
      "text/plain": [
       "Dataset({\n",
       "    features: ['id', 'paragraphs', 'question', 'answer', 'answer_aliases', 'context', 'citations'],\n",
       "    num_rows: 19938\n",
       "})"
      ]
     },
     "execution_count": 1,
     "metadata": {},
     "output_type": "execute_result"
    }
   ],
   "source": [
    "from datasets import load_dataset\n",
    "\n",
    "# Login using e.g. `huggingface-cli login` to access this dataset\n",
    "ds = load_dataset(\"jerry128/Musique-Ans-Train-CL-Sorted-By-Hops\", cache_dir=\"./Musique\", split=\"train\")\n",
    "\n",
    "ds"
   ]
  },
  {
   "cell_type": "code",
   "execution_count": null,
   "id": "8aff5557",
   "metadata": {},
   "outputs": [
    {
     "name": "stdout",
     "output_type": "stream",
     "text": [
      "18123\n"
     ]
    }
   ],
   "source": [
    "# 将数据展平，处理成想要的格式，方便后续嵌入\n",
    "from datasets import Dataset\n",
    "flatten_ds = []\n",
    "for id, paragraphs in zip(ds[\"id\"], ds[\"paragraphs\"]):\n",
    "    for para in paragraphs:\n",
    "        idx = para[\"idx\"]  # 段落的索引\n",
    "        text = para[\"paragraph_text\"]  # 段落内容\n",
    "        title = para[\"title\"]  # 段落标题\n",
    "        flatten_ds.append(\n",
    "            {\n",
    "                \"id\": f\"{id}_{idx}\",  # 创建一个唯一的段落ID\n",
    "                \"title\": title,  # 段落标题\n",
    "                \"text\": text,\n",
    "                \"hop\": int(id[0]),\n",
    "            }\n",
    "        )\n",
    "\n",
    "flatten_ds = Dataset.from_list(flatten_ds)\n",
    "flatten_ds"
   ]
  },
  {
   "cell_type": "code",
   "execution_count": null,
   "id": "87f30f56",
   "metadata": {},
   "outputs": [],
   "source": [
    "# 可选是否保存\n",
    "flatten_ds.save_to_disk(\"./Musique_flattened\")\n",
    "flatten_ds.to_parquet(\"./Musique_flattened/Musique_flattened.parquet\")"
   ]
  },
  {
   "cell_type": "code",
   "execution_count": 2,
   "id": "d2e52272",
   "metadata": {},
   "outputs": [],
   "source": [
    "def make_prefix(dp):\n",
    "    question = dp[\"question\"]\n",
    "\n",
    "    # NOTE: also need to change reward_score/countdown.py\n",
    "    prefix = f\"\"\"You are an efficient research assistant. Your goal is to answer the question by using tool to find information. You can search and scrape as many times as your want.\n",
    "    If you need to use tool, you should first search for relevant documents, and then scrape the content of the documents to answer the question.\n",
    "    If you find no further external knowledge needed, you can directly provide the answer inside <answer> and </answer>, without detailed illustrations. For example, <answer> Beijing </answer>.\n",
    "Now, answer the following question.\n",
    "Question: {question}\"\"\"\n",
    "\n",
    "    return prefix\n",
    "\n",
    "\n",
    "# add a row to each data item that represents a unique id\n",
    "def make_map_fn(split):\n",
    "\n",
    "    def process_fn(example, idx):\n",
    "        example[\"question\"] = example[\"question\"].strip()\n",
    "        if example[\"question\"][-1] != \"?\":\n",
    "            example[\"question\"] += \"?\"\n",
    "        question = make_prefix(example)\n",
    "        solution = {\n",
    "            \"target\": example[\"answer\"],\n",
    "        }\n",
    "\n",
    "        data = {\n",
    "            \"data_source\": \"oringinal_dataset(Musique)\",\n",
    "            \"prompt\": [\n",
    "                {\n",
    "                    \"role\": \"user\",\n",
    "                    \"content\": question,\n",
    "                }\n",
    "            ],\n",
    "            \"ability\": \"fact-reasoning\",\n",
    "            \"reward_model\": {\"style\": \"rule\", \"ground_truth\": solution},\n",
    "            \"extra_info\": {\n",
    "                \"split\": split,\n",
    "                \"index\": idx,\n",
    "            },\n",
    "        }\n",
    "        return data\n",
    "\n",
    "    return process_fn\n"
   ]
  },
  {
   "cell_type": "code",
   "execution_count": 3,
   "id": "c2681624",
   "metadata": {},
   "outputs": [
    {
     "data": {
      "application/vnd.jupyter.widget-view+json": {
       "model_id": "191c4f373cf5446eb9a8b37b58d16b24",
       "version_major": 2,
       "version_minor": 0
      },
      "text/plain": [
       "Map:   0%|          | 0/19938 [00:00<?, ? examples/s]"
      ]
     },
     "metadata": {},
     "output_type": "display_data"
    },
    {
     "data": {
      "application/vnd.jupyter.widget-view+json": {
       "model_id": "eb1d6e203506482386c81aa8fc5297e8",
       "version_major": 2,
       "version_minor": 0
      },
      "text/plain": [
       "Creating parquet from Arrow format:   0%|          | 0/20 [00:00<?, ?ba/s]"
      ]
     },
     "metadata": {},
     "output_type": "display_data"
    },
    {
     "data": {
      "text/plain": [
       "341407293"
      ]
     },
     "execution_count": 3,
     "metadata": {},
     "output_type": "execute_result"
    }
   ],
   "source": [
    "train_dataset = ds.map(function=make_map_fn(\"train\"), with_indices=True)\n",
    "\n",
    "train_dataset.to_parquet(\"./Musique_RL/train.parquet\")"
   ]
  },
  {
   "cell_type": "code",
   "execution_count": 4,
   "id": "c32511ad",
   "metadata": {},
   "outputs": [
    {
     "name": "stderr",
     "output_type": "stream",
     "text": [
      "Using the latest cached version of the dataset since jerry128/Musique-Ans-Eval-1000 couldn't be found on the Hugging Face Hub\n",
      "Found the latest cached dataset configuration 'default' at Musique/jerry128___musique-ans-eval-1000/default/0.0.0/70b39609f807b16b9d6bfdbfcc07efb701d3e7c8 (last modified on Mon Jul 14 05:56:42 2025).\n"
     ]
    },
    {
     "data": {
      "application/vnd.jupyter.widget-view+json": {
       "model_id": "8725961c0ea84f82b8573659dec6de2b",
       "version_major": 2,
       "version_minor": 0
      },
      "text/plain": [
       "Map:   0%|          | 0/1000 [00:00<?, ? examples/s]"
      ]
     },
     "metadata": {},
     "output_type": "display_data"
    },
    {
     "data": {
      "application/vnd.jupyter.widget-view+json": {
       "model_id": "2f8ca5ae03c9488981945965a3d8d697",
       "version_major": 2,
       "version_minor": 0
      },
      "text/plain": [
       "Creating parquet from Arrow format:   0%|          | 0/1 [00:00<?, ?ba/s]"
      ]
     },
     "metadata": {},
     "output_type": "display_data"
    },
    {
     "data": {
      "text/plain": [
       "21820819"
      ]
     },
     "execution_count": 4,
     "metadata": {},
     "output_type": "execute_result"
    }
   ],
   "source": [
    "from datasets import load_dataset\n",
    "\n",
    "# Login using e.g. `huggingface-cli login` to access this dataset\n",
    "ds = load_dataset(\"jerry128/Musique-Ans-Eval-1000\", cache_dir=\"./Musique\", split=\"train\")\n",
    "\n",
    "train_dataset = ds.map(function=make_map_fn(\"test\"), with_indices=True)\n",
    "\n",
    "train_dataset.to_parquet(\"./Musique_RL/test.parquet\")\n"
   ]
  }
 ],
 "metadata": {
  "kernelspec": {
   "display_name": "shallow-search",
   "language": "python",
   "name": "python3"
  },
  "language_info": {
   "codemirror_mode": {
    "name": "ipython",
    "version": 3
   },
   "file_extension": ".py",
   "mimetype": "text/x-python",
   "name": "python",
   "nbconvert_exporter": "python",
   "pygments_lexer": "ipython3",
   "version": "3.10.18"
  }
 },
 "nbformat": 4,
 "nbformat_minor": 5
}
