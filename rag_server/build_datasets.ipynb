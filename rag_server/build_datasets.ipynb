{
 "cells": [
  {
   "cell_type": "markdown",
   "id": "55235a2d",
   "metadata": {},
   "source": [
    "# 加载已经展平的数据"
   ]
  },
  {
   "cell_type": "code",
   "execution_count": 1,
   "id": "41758b06",
   "metadata": {},
   "outputs": [
    {
     "data": {
      "text/plain": [
       "Dataset({\n",
       "    features: ['id', 'title', 'text', 'hop'],\n",
       "    num_rows: 398724\n",
       "})"
      ]
     },
     "execution_count": 1,
     "metadata": {},
     "output_type": "execute_result"
    }
   ],
   "source": [
    "from datasets import load_dataset, load_from_disk\n",
    "\n",
    "ds = load_from_disk(\"../datasets/Musique_flattened\")\n",
    "ds"
   ]
  },
  {
   "cell_type": "markdown",
   "id": "e8fc8001",
   "metadata": {},
   "source": [
    "# 获取embedding字段的embedding\n",
    "需要提前下载Qwen3-Embedding-0.6B"
   ]
  },
  {
   "cell_type": "code",
   "execution_count": null,
   "id": "5fefb9f6",
   "metadata": {},
   "outputs": [],
   "source": [
    "import torch\n",
    "from sentence_transformers import SentenceTransformer\n",
    "import os\n",
    "\n",
    "os.environ[\"CUDA_VISIBLE_DEVICES\"] = \"0,1,2,3\"  # 指定使用的GPU设备\n",
    "model = SentenceTransformer(\n",
    "    \"Qwen/Qwen3-Embedding-0.6B\",\n",
    "    cache_folder=\"../models/Qwen3-Embedding-0.6B\",\n",
    "    model_kwargs={\n",
    "        \"attn_implementation\": \"flash_attention_2\",\n",
    "        \"torch_dtype\": torch.bfloat16,\n",
    "    },\n",
    "    tokenizer_kwargs={\"padding_side\": \"left\"},\n",
    "    device=\"cuda\",  # 指定一个主设备\n",
    ")\n",
    "\n",
    "def make_encoder_fn(model: SentenceTransformer, pool):\n",
    "    def encode_text(batch):\n",
    "        embeddings = model.encode_document(\n",
    "            batch[\"text\"],\n",
    "            normalize_embeddings=True,\n",
    "            pool=pool,\n",
    "            show_progress_bar=True,\n",
    "        )\n",
    "        batch[\"vector\"] = embeddings  # 保持张量格式（Parquet 会自动转换）\n",
    "        return batch\n",
    "    return encode_text\n",
    "\n",
    "pool = model.start_multi_process_pool()\n",
    "encode_text_fn = make_encoder_fn(model, pool)\n",
    "\n",
    "ds = ds.map(\n",
    "    encode_text_fn,\n",
    "    batched=True,\n",
    "    batch_size=4 * 10240,  # 根据 GPU 内存大小调整批处理大小\n",
    ")\n",
    "\n",
    "model.stop_multi_process_pool(pool)\n",
    "ds.to_parquet(\"../datasets/Musique_encode/Musique_encoded.parquet\")"
   ]
  },
  {
   "cell_type": "code",
   "execution_count": 6,
   "id": "64d8ae4d",
   "metadata": {},
   "outputs": [
    {
     "name": "stdout",
     "output_type": "stream",
     "text": [
      "集合 'Musique' 已存在，正在删除...\n",
      "正在创建新集合 'Musique'...\n"
     ]
    }
   ],
   "source": [
    "from dotenv import load_dotenv\n",
    "import os\n",
    "from pymilvus import MilvusClient, DataType, IndexType\n",
    "\n",
    "def init_database(collection_name: str, endpoint: str = None, token: str = None):\n",
    "    \"\"\"初始化或重置 Milvus 集合。\"\"\"\n",
    "    client = MilvusClient(uri=endpoint, token=token)\n",
    "    # [WARNING] 如果集合已存在，将会被删除, 请谨慎使用此功能！\n",
    "    if client.has_collection(collection_name=collection_name):\n",
    "        print(f\"集合 '{collection_name}' 已存在，正在删除...\")\n",
    "        client.drop_collection(collection_name=collection_name)\n",
    "\n",
    "    schema = MilvusClient.create_schema(auto_id=False, enable_dynamic_field=False)\n",
    "    schema.add_field(\n",
    "        field_name=\"id\", datatype=DataType.VARCHAR, max_length=64, is_primary=True\n",
    "    )\n",
    "    schema.add_field(field_name=\"vector\", datatype=DataType.FLOAT_VECTOR, dim=1024)\n",
    "    schema.add_field(field_name=\"title\", datatype=DataType.VARCHAR, max_length=256)\n",
    "    # 将 text 字段的最大长度增加，以防段落过长导致错误\n",
    "    schema.add_field(field_name=\"text\", datatype=DataType.VARCHAR, max_length=4096)\n",
    "    schema.add_field(field_name=\"hop\", datatype=DataType.INT8)\n",
    "\n",
    "    index_params = MilvusClient.prepare_index_params()\n",
    "    index_params.add_index(\n",
    "        field_name=\"vector\",\n",
    "        index_name=\"vector_index\",\n",
    "        index_type=IndexType.FLAT,\n",
    "        metric_type=\"IP\",\n",
    "        params={},\n",
    "    )\n",
    "\n",
    "    print(f\"正在创建新集合 '{collection_name}'...\")\n",
    "    client.create_collection(\n",
    "        collection_name=collection_name,\n",
    "        schema=schema,\n",
    "        index_params=index_params,\n",
    "    )\n",
    "\n",
    "    return client\n",
    "\n",
    "load_dotenv()\n",
    "endpoint = os.getenv(\"MILVUS_ENDPOINT\")\n",
    "token = os.getenv(\"MILVUS_TOKEN\")\n",
    "\n",
    "collection_name = \"Musique\"\n",
    "client = init_database(collection_name, endpoint, token)"
   ]
  },
  {
   "cell_type": "code",
   "execution_count": 7,
   "id": "1514746b",
   "metadata": {},
   "outputs": [
    {
     "data": {
      "application/vnd.jupyter.widget-view+json": {
       "model_id": "ab53d31aa3244669916fa75e4fb788fc",
       "version_major": 2,
       "version_minor": 0
      },
      "text/plain": [
       "插入数据批次:   0%|          | 0/40 [00:00<?, ?it/s]"
      ]
     },
     "metadata": {},
     "output_type": "display_data"
    }
   ],
   "source": [
    "from tqdm.auto import tqdm\n",
    "\n",
    "batch_size = 10000  # 每批次插入的文档数量\n",
    "num_docs = len(ds)  # 数据集中的总文档数量\n",
    "for i in tqdm(range(0, num_docs, batch_size), desc=\"插入数据批次\"):\n",
    "    # 计算当前批次的结束索引\n",
    "    end_index = min(i + batch_size, num_docs)\n",
    "\n",
    "    # 从 Hugging Face Dataset 中选择一个切片\n",
    "    batch_slice = ds.select(range(i, end_index))\n",
    "\n",
    "    # 将切片转换为 MilvusClient.insert 所需的 list of dicts 格式\n",
    "    data_to_insert = batch_slice.to_list()\n",
    "\n",
    "    # 插入当前批次的数据\n",
    "    client.insert(collection_name=collection_name, data=data_to_insert)"
   ]
  }
 ],
 "metadata": {
  "kernelspec": {
   "display_name": "qwen-rl",
   "language": "python",
   "name": "python3"
  },
  "language_info": {
   "codemirror_mode": {
    "name": "ipython",
    "version": 3
   },
   "file_extension": ".py",
   "mimetype": "text/x-python",
   "name": "python",
   "nbconvert_exporter": "python",
   "pygments_lexer": "ipython3",
   "version": "3.10.18"
  }
 },
 "nbformat": 4,
 "nbformat_minor": 5
}
