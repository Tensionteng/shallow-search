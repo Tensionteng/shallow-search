{
 "cells": [
  {
   "cell_type": "code",
   "execution_count": 3,
   "id": "bddb14b9",
   "metadata": {},
   "outputs": [
    {
     "name": "stdout",
     "output_type": "stream",
     "text": [
      "正在加载模型和元数据...\n",
      "正在连接Milvus: https://in03-fe6558fabb7b567.serverless.ali-cn-hangzhou.cloud.zilliz.com.cn\n"
     ]
    }
   ],
   "source": [
    "import os\n",
    "import torch\n",
    "from fastapi import FastAPI, HTTPException\n",
    "from sentence_transformers import SentenceTransformer, CrossEncoder\n",
    "from pymilvus import MilvusClient\n",
    "from dotenv import load_dotenv\n",
    "from contextlib import asynccontextmanager\n",
    "from typing import Dict, Union\n",
    "from rag_schemas import SearchRequest, ScrapeRequest, SearchResult, ScrapeResult\n",
    "from rag_config import RAGConfig\n",
    "\n",
    "load_dotenv()\n",
    "\n",
    "\n",
    "def format_queries(query, instruction=None):\n",
    "    prefix = '<|im_start|>system\\nJudge whether the Document meets the requirements based on the Query and the Instruct provided. \\\n",
    "        Note that the answer can only be \"yes\" or \"no\".<|im_end|>\\n<|im_start|>user\\n'\n",
    "    if instruction is None:\n",
    "        instruction = (\n",
    "            \"Given a web search query, retrieve relevant passages that answer the query\"\n",
    "        )\n",
    "    return f\"{prefix}<Instruct>: {instruction}\\n<Query>: {query}\\n\"\n",
    "\n",
    "\n",
    "def format_document(document):\n",
    "    suffix = \"<|im_end|>\\n<|im_start|>assistant\\n<think>\\n\\n</think>\\n\\n\"\n",
    "    return f\"<Document>: {document}{suffix}\"\n",
    "\n",
    "\n",
    "# 任务描述\n",
    "TASK = \"Given a web search query, retrieve relevant passages that answer the query\"\n",
    "\n",
    "config = RAGConfig()\n",
    "\n",
    "print(\"正在加载模型和元数据...\")\n",
    "\n",
    "\n",
    "print(f\"正在连接Milvus: {config.milvus_endpoint}\")\n",
    "client = MilvusClient(uri=config.milvus_endpoint, token=config.milvus_token)\n",
    "\n",
    "# 检查Collection是否存在\n",
    "if not client.has_collection(collection_name=config.milvus_collection_name):\n",
    "    raise SystemExit(\n",
    "        f\"错误: Milvus中不存在名为 '{config.milvus_collection_name}' 的集合。请先运行`build_datasets.ipynb`脚本来创建集合。\"\n",
    "    )\n",
    "\n"
   ]
  },
  {
   "cell_type": "code",
   "execution_count": 10,
   "id": "0b571233",
   "metadata": {},
   "outputs": [],
   "source": [
    "embedding_model = SentenceTransformer(\n",
    "        f\"Qwen/{config.embedding_model_name}\",\n",
    "        cache_folder=f\".{config.cache_dir}/{config.embedding_model_name}\",\n",
    "        model_kwargs={\n",
    "            # \"attn_implementation\": \"flash_attention_2\",\n",
    "            # \"torch_dtype\": torch.bfloat16,\n",
    "        },\n",
    "        tokenizer_kwargs={\"padding_side\": \"left\"},\n",
    "        device=\"cuda:4\",\n",
    "    )\n",
    "\n",
    "    # 加载用于重排序的Cross-Encoder模型\n",
    "reranker_model = CrossEncoder(\n",
    "        f\"tomaarsen/{config.reranker_model_name}\",\n",
    "        cache_folder=f\".{config.cache_dir}/{config.reranker_model_name}\",\n",
    "        model_kwargs={\n",
    "            # \"attn_implementation\": \"flash_attention_2\",\n",
    "            # \"torch_dtype\": torch.bfloat16,\n",
    "        },\n",
    "        tokenizer_kwargs={\n",
    "            \"padding_side\": \"left\",\n",
    "        },\n",
    "        device=\"cuda:4\",\n",
    "    )"
   ]
  },
  {
   "cell_type": "code",
   "execution_count": 11,
   "id": "43f9a60e",
   "metadata": {},
   "outputs": [],
   "source": [
    "query_list = [\n",
    "     \"What is the capital of France?\",\n",
    "     \"Explain the theory of relativity.\",\n",
    " ]\n",
    "query_vector = embedding_model.encode_query(\n",
    "        query_list, normalize_embeddings=True\n",
    "    )"
   ]
  },
  {
   "cell_type": "code",
   "execution_count": 26,
   "id": "13304258",
   "metadata": {},
   "outputs": [
    {
     "name": "stdout",
     "output_type": "stream",
     "text": [
      "查询结果数量: 2\n",
      "每个查询的文档数量: [50, 50]\n"
     ]
    }
   ],
   "source": [
    "results = client.search(\n",
    "    collection_name=config.milvus_collection_name,\n",
    "    data=query_vector,\n",
    "    anns_field=\"vector\",  # 您在Milvus中定义的向量字段名\n",
    "    search_params={\"metric_type\": \"IP\", \"params\": {}},\n",
    "    limit=config.top_k_retrieval,  # 返回的文档数量\n",
    "    output_fields=[\"text\", \"title\", \"id\"],  # 输出字段包括文本和ID和标题\n",
    ")\n",
    "\n",
    "print(f\"查询结果数量: {len(results)}\")\n",
    "print(f\"每个查询的文档数量: {[len(docs) for docs in results]}\")"
   ]
  },
  {
   "cell_type": "code",
   "execution_count": null,
   "id": "3994a18d",
   "metadata": {},
   "outputs": [
    {
     "name": "stdout",
     "output_type": "stream",
     "text": [
      "查询结果数量: 2\n",
      "每个查询的文档数量: [6, 8]\n",
      "查询结果示例: [{'id': '2hop__152921_19219_0', 'title': 'Paris', 'text': \"Paris (French pronunciation: \\u200b (paʁi) (listen)) is the capital and most populous city in France, with an administrative - limits area of 105 square kilometres (41 square miles) and an official population of 2,206,488 (2015). The city is a commune and department, and the heart of the 12,012 - square - kilometre (4,638 - square - mile) Île - de-France region (colloquially known as the 'Paris Region'), whose 2016 population of 12,142,802 represented roughly 18 percent of the population of France. Since the 17th century, Paris has been one of Europe's major centres of finance, commerce, fashion, science, and the arts. The Paris Region had a GDP of €649.6 billion (US $763.4 billion) in 2014, accounting for 30.4 percent of the GDP of France. According to official estimates, in 2013 - 14 the Paris Region had the third - highest GDP in the world and the largest regional GDP in the EU.\"}, {'id': '3hop1__161098_80462_90300_1', 'title': 'Marseille', 'text': \"Marseille (English / mɑːrˈseɪ /; French: (maʁsɛj) (listen), locally: (mɑχˈsɛjə); Provençal Marselha (maʀˈsejɔ, maʀˈsijɔ)), also known as Marseilles, is a city in France. The capital of the Bouches - du - Rhône department and Provence - Alpes - Côte d'Azur region, Marseille, on France's south coast, is the country's second largest city, after Paris, with a population of 852,516 in 2012, and an area of 241 km (93 sq mi), the 3rd - largest metropolitan area in France after Paris and Lyon.\"}, {'id': '2hop__661_26316_14', 'title': 'French Second Republic', 'text': \"French Republic République française 1848 -- 1852 Flag Great Seal Motto Liberté, Égalité, Fraternité ``Liberty, Equality, Fraternity ''Anthem Le Chant des Girondins`` The Song of Girondists'' Map of the French Second Republic Capital Paris Languages French Religion Roman Catholicism Calvinism Lutheranism Judaism Government Semi-presidential republic (1848 - 1851) Presidential republic (1851 - 1852) President 1848 -- 1852 Louis - Napoléon Bonaparte Prime Minister 1848 Jacques - Charles Dupont (first) 1851 Léon Faucher (last) Legislature National Assembly History French Revolution 23 February 1848 Abolition of slavery 27 April 1848 Constitution adopted 4 November 1848 Coup of 1851 2 December 1851 Empire reestablished 2 December 1852 Currency French Franc Preceded by Succeeded by July Monarchy Second French Empire Today part of France\"}]\n"
     ]
    }
   ],
   "source": [
    "# 针对每一个查询去重\n",
    "unique_docs = []\n",
    "for result in results:\n",
    "    temp = []\n",
    "    seen_titles = set()\n",
    "    for hit in result:\n",
    "        title = hit[\"entity\"][\"title\"]\n",
    "        if title not in seen_titles:\n",
    "            seen_titles.add(title)\n",
    "            temp.append(\n",
    "                {\n",
    "                    \"id\": hit[\"entity\"][\"id\"],  # 保存原始ID\n",
    "                    \"title\": title,\n",
    "                    \"text\": hit[\"entity\"][\"text\"],\n",
    "                }\n",
    "            )\n",
    "    unique_docs.append(temp)\n",
    "\n",
    "print(f\"查询结果数量: {len(unique_docs)}\")\n",
    "print(f\"每个查询的文档数量: {[len(docs) for docs in unique_docs]}\")"
   ]
  },
  {
   "cell_type": "code",
   "execution_count": 28,
   "id": "09976fc8",
   "metadata": {},
   "outputs": [
    {
     "data": {
      "text/plain": [
       "(2, 2)"
      ]
     },
     "execution_count": 28,
     "metadata": {},
     "output_type": "execute_result"
    }
   ],
   "source": [
    "query_for_reranker = [format_queries(query, TASK) for query in query_list]\n",
    "\n",
    "documents_for_reranker = []\n",
    "for docs in unique_docs:\n",
    "    documents_for_reranker.append(format_document(doc[\"text\"]) for doc in docs)\n",
    "\n",
    "\n",
    "len(query_for_reranker), len(documents_for_reranker)"
   ]
  },
  {
   "cell_type": "code",
   "execution_count": 29,
   "id": "a53f522b",
   "metadata": {},
   "outputs": [
    {
     "data": {
      "text/plain": [
       "[[{'corpus_id': 0, 'score': 0.99848026},\n",
       "  {'corpus_id': 3, 'score': 0.9896303},\n",
       "  {'corpus_id': 1, 'score': 0.91427857},\n",
       "  {'corpus_id': 2, 'score': 0.7298417},\n",
       "  {'corpus_id': 4, 'score': 0.0075455094},\n",
       "  {'corpus_id': 5, 'score': 0.0013671208}],\n",
       " [{'corpus_id': 0, 'score': 0.9959792},\n",
       "  {'corpus_id': 1, 'score': 0.890301},\n",
       "  {'corpus_id': 6, 'score': 0.43265003},\n",
       "  {'corpus_id': 5, 'score': 0.2497432},\n",
       "  {'corpus_id': 2, 'score': 0.050744627},\n",
       "  {'corpus_id': 3, 'score': 0.039595332},\n",
       "  {'corpus_id': 4, 'score': 0.013334567},\n",
       "  {'corpus_id': 7, 'score': 0.009522346}]]"
      ]
     },
     "execution_count": 29,
     "metadata": {},
     "output_type": "execute_result"
    }
   ],
   "source": [
    "# **重排序 (Reranking)\n",
    "# 使用Cross-Encoder模型计算相关性分数\n",
    "ranks = [\n",
    "    reranker_model.rank(\n",
    "        query=query,\n",
    "        documents=doc,\n",
    "    )\n",
    "    for query, doc in zip(query_for_reranker, documents_for_reranker)\n",
    "]\n",
    "\n",
    "ranks"
   ]
  },
  {
   "cell_type": "code",
   "execution_count": 33,
   "id": "7946fd07",
   "metadata": {},
   "outputs": [
    {
     "data": {
      "text/plain": [
       "[[SearchResult(id='2hop__152921_19219_0', title='Paris', preview='Paris (French pronunciation: \\u200b (paʁi) (listen)) is the capital and most populous city in France, with an administrative - limits area of 105 square ki...', rerank_score=0.9984802603721619),\n",
       "  SearchResult(id='3hop1__238983_403313_22725_8', title='Strasbourg', preview='Strasbourg (/ˈstræzbɜːrɡ/, French pronunciation: \\u200b[stʁaz.buʁ, stʁas.buʁ]; Alsatian: Strossburi; German: Straßburg, [ˈʃtʁaːsbʊɐ̯k]) is the capital and ...', rerank_score=0.9896302819252014),\n",
       "  SearchResult(id='3hop1__161098_80462_90300_1', title='Marseille', preview='Marseille (English / mɑːrˈseɪ /; French: (maʁsɛj) (listen), locally: (mɑχˈsɛjə); Provençal Marselha (maʀˈsejɔ, maʀˈsijɔ)), also known as Marseilles, i...', rerank_score=0.9142785668373108),\n",
       "  SearchResult(id='2hop__661_26316_14', title='French Second Republic', preview=\"French Republic République française 1848 -- 1852 Flag Great Seal Motto Liberté, Égalité, Fraternité ``Liberty, Equality, Fraternity ''Anthem Le Chant...\", rerank_score=0.7298417091369629),\n",
       "  SearchResult(id='4hop1__404363_705261_41881_27337_15', title='Outline of France', preview='France -- country in Western Europe with several overseas regions and territories. Metropolitan France extends from the Mediterranean Sea to the Engli...', rerank_score=0.007545509375631809),\n",
       "  SearchResult(id='3hop1__11207_210788_3752_12', title='Tourism in France', preview='Notre Dame de Paris (13.6 million), Basilique du Sacré - Coeur (10.5 million), Louvre Museum (8.5 million), Eiffel Tower (6.2 million), Palace of Vers...', rerank_score=0.0013671207707375288)],\n",
       " [SearchResult(id='2hop__782306_3089_3', title='General relativity', preview='General relativity (GR, also known as the general theory of relativity or GTR) is the geometric theory of gravitation published by Albert Einstein in ...', rerank_score=0.9959791898727417),\n",
       "  SearchResult(id='2hop__782306_3429_15', title='Philosophy of space and time', preview='Albert Einstein proposed that the laws of physics should be based on the principle of relativity. This principle holds that the rules of physics must ...', rerank_score=0.890300989151001),\n",
       "  SearchResult(id='2hop__782306_3429_7', title='Einstein field equations', preview=\"The Einstein field equations (EFE; also known as Einstein's equations) comprise the set of 10 equations in Albert Einstein's general theory of relativ...\", rerank_score=0.43265002965927124),\n",
       "  SearchResult(id='2hop__146366_54580_5', title='History of special relativity', preview='The first derivations of relativity of simultaneity by synchronization with light signals were also simplified. Daniel Frost Comstock (1910) placed an...', rerank_score=0.24974319338798523),\n",
       "  SearchResult(id='2hop__667140_56101_16', title='Unified field theory', preview='The first successful classical unified field theory was developed by James Clerk Maxwell. In 1820 Hans Christian Ørsted discovered that electric curre...', rerank_score=0.05074462667107582),\n",
       "  SearchResult(id='2hop__42860_42483_5', title='Time', preview='In non-relativistic classical mechanics, Newton\\'s concept of \"relative, apparent, and common time\" can be used in the formulation of a prescription fo...', rerank_score=0.039595331996679306),\n",
       "  SearchResult(id='2hop__157635_82682_16', title='Force', preview=\"It was only the orbit of the planet Mercury that Newton's Law of Gravitation seemed not to fully explain. Some astrophysicists predicted the existence...\", rerank_score=0.013334566727280617),\n",
       "  SearchResult(id='2hop__35598_31101_4', title='Alfred North Whitehead', preview=\"In physics, Whitehead's thought has had some influence. He articulated a view that might perhaps be regarded as dual to Einstein's general relativity,...\", rerank_score=0.00952234584838152)]]"
      ]
     },
     "execution_count": 33,
     "metadata": {},
     "output_type": "execute_result"
    }
   ],
   "source": [
    "# 格式化并返回最终结果\n",
    "final_results = []\n",
    "for index, rank in enumerate(ranks):\n",
    "    temp = []\n",
    "    # 只处理分数最高的TOP_K_RERANKED个结果\n",
    "    for rank_info in rank[: config.top_k_rerank]:\n",
    "        # `corpus_id`是reranker输入列表的索引，也对应我们`unique_docs`列表的索引\n",
    "        corpus_id = rank_info[\"corpus_id\"]\n",
    "\n",
    "        # 从我们保存的原始文档列表中获取完整信息\n",
    "        original_doc = unique_docs[index][corpus_id]\n",
    "\n",
    "        # 构建最终返回的SearchResult对象\n",
    "        temp.append(\n",
    "            SearchResult(\n",
    "                id=original_doc[\"id\"],\n",
    "                title=original_doc[\"title\"],\n",
    "                # 从原始文本生成预览\n",
    "                preview=original_doc[\"text\"][:150] + \"...\",\n",
    "                rerank_score=rank_info[\"score\"],\n",
    "            )\n",
    "        )\n",
    "    final_results.append(temp)\n",
    "\n",
    "final_results"
   ]
  },
  {
   "cell_type": "code",
   "execution_count": 39,
   "id": "401e8c76",
   "metadata": {},
   "outputs": [
    {
     "data": {
      "text/plain": [
       "data: ['{\\'text\\': \"Paris (French pronunciation: \\\\u200b (paʁi) (listen)) is the capital and most populous city in France, with an administrative - limits area of 105 square kilometres (41 square miles) and an official population of 2,206,488 (2015). The city is a commune and department, and the heart of the 12,012 - square - kilometre (4,638 - square - mile) Île - de-France region (colloquially known as the \\'Paris Region\\'), whose 2016 population of 12,142,802 represented roughly 18 percent of the population of France. Since the 17th century, Paris has been one of Europe\\'s major centres of finance, commerce, fashion, science, and the arts. The Paris Region had a GDP of €649.6 billion (US $763.4 billion) in 2014, accounting for 30.4 percent of the GDP of France. According to official estimates, in 2013 - 14 the Paris Region had the third - highest GDP in the world and the largest regional GDP in the EU.\", \\'title\\': \\'Paris\\', \\'id\\': \\'2hop__152921_19219_0\\'}', '{\\'text\\': \\'General relativity (GR, also known as the general theory of relativity or GTR) is the geometric theory of gravitation published by Albert Einstein in 1915 and the current description of gravitation in modern physics. General relativity generalizes special relativity and refines Newton\\\\\\'s law of universal gravitation, providing a unified description of gravity as a geometric property of space and time, or spacetime. In particular, the \"\" is directly related to the energy and momentum of whatever matter and radiation are present. The relation is specified by the Einstein field equations, a system of partial differential equations.\\', \\'title\\': \\'General relativity\\', \\'id\\': \\'2hop__782306_3089_3\\'}'], extra_info: {'cost': 11}"
      ]
     },
     "execution_count": 39,
     "metadata": {},
     "output_type": "execute_result"
    }
   ],
   "source": [
    "doc_id = [\"2hop__152921_19219_0\", \"2hop__782306_3089_3\"]\n",
    "\n",
    "results = client.query(\n",
    "    collection_name=config.milvus_collection_name,\n",
    "    ids=doc_id,\n",
    "    output_fields=[\"text\", \"title\"],\n",
    ")\n",
    "if not results:\n",
    "    # 如果查询结果为空，说明该ID在数据库中不存在\n",
    "    raise HTTPException(\n",
    "        status_code=404, detail=f\"文档ID {doc_id} 在数据库中未找到。\"\n",
    "    )\n",
    "\n",
    "results"
   ]
  },
  {
   "cell_type": "code",
   "execution_count": 42,
   "id": "f2951bca",
   "metadata": {},
   "outputs": [
    {
     "data": {
      "text/plain": [
       "[ScrapeResult(id='2hop__152921_19219_0', title='Paris', full_text=\"Paris (French pronunciation: \\u200b (paʁi) (listen)) is the capital and most populous city in France, with an administrative - limits area of 105 square kilometres (41 square miles) and an official population of 2,206,488 (2015). The city is a commune and department, and the heart of the 12,012 - square - kilometre (4,638 - square - mile) Île - de-France region (colloquially known as the 'Paris Region'), whose 2016 population of 12,142,802 represented roughly 18 percent of the population of France. Since the 17th century, Paris has been one of Europe's major centres of finance, commerce, fashion, science, and the arts. The Paris Region had a GDP of €649.6 billion (US $763.4 billion) in 2014, accounting for 30.4 percent of the GDP of France. According to official estimates, in 2013 - 14 the Paris Region had the third - highest GDP in the world and the largest regional GDP in the EU.\"),\n",
       " ScrapeResult(id='2hop__782306_3089_3', title='General relativity', full_text='General relativity (GR, also known as the general theory of relativity or GTR) is the geometric theory of gravitation published by Albert Einstein in 1915 and the current description of gravitation in modern physics. General relativity generalizes special relativity and refines Newton\\'s law of universal gravitation, providing a unified description of gravity as a geometric property of space and time, or spacetime. In particular, the \"\" is directly related to the energy and momentum of whatever matter and radiation are present. The relation is specified by the Einstein field equations, a system of partial differential equations.')]"
      ]
     },
     "execution_count": 42,
     "metadata": {},
     "output_type": "execute_result"
    }
   ],
   "source": [
    "tmp = [ScrapeResult(id=doc[\"id\"], title=doc[\"title\"], full_text=doc[\"text\"]) for doc in results]\n",
    "tmp"
   ]
  },
  {
   "cell_type": "code",
   "execution_count": 13,
   "id": "f2e8a7f0",
   "metadata": {},
   "outputs": [
    {
     "data": {
      "text/plain": [
       "array([[-0.01220703,  0.04760742, -0.00473022, ...,  0.00180054,\n",
       "        -0.02770996,  0.00744629],\n",
       "       [-0.0088501 ,  0.00982666,  0.00156403, ...,  0.02624512,\n",
       "        -0.04174805,  0.0001545 ]], shape=(2, 1024), dtype=float32)"
      ]
     },
     "execution_count": 13,
     "metadata": {},
     "output_type": "execute_result"
    }
   ],
   "source": [
    "query = [\"世界上最高的山峰是什么？\", \"谁是美国的第一任总统？\"]\n",
    "query_vector = embedding_model.encode_query(\n",
    "        query, normalize_embeddings=True\n",
    "    )\n",
    "\n",
    "query_vector"
   ]
  },
  {
   "cell_type": "code",
   "execution_count": 14,
   "id": "9ae9b5a7",
   "metadata": {},
   "outputs": [
    {
     "data": {
      "text/plain": [
       "data: [[{'id': '2hop__47005_159536_16', 'distance': 0.7016823291778564, 'entity': {'text': \"Chimborazo, 6,267 metres (20,561 ft). Presumed highest from sixteenth century until the beginning of the 19th century. Not in the top 100 highest mountains when measured from sea level, however due to the earth's equatorial bulge this is the farthest point from the Earth's center. Nanda Devi, 7,816 metres (25,643 ft). Presumed highest in the world before Kangchenjunga was sighted in an era when Nepal was still closed to the outside world. Now known to be the 23rd highest mountain in the world. Dhaulagiri, 8,167 metres (26,795 ft). Presumed highest from 1808 until 1847. Now known to be the 7th highest mountain in the world. Kangchenjunga, 8,586 metres (28,169 ft). Presumed highest from 1847 until 1852. Now known to be the 3rd highest mountain in the world. Mount Everest, 8,848 metres (29,029 ft). Established as highest in 1852 and officially confirmed in 1856. K2, 8,611 metres (28,251 ft). Discovered in 1856 before Mt. Everest was officially confirmed, K2's elevation became something of an enigma until it was officially resolved at a later date. News media reported in 1986 that satellite measurements by the University of Washington during an expedition to K2 by George Wallenstein had given a height between 29,064 feet (8,859 m) and 29,228 feet (8,909 m). This erroneous figure was quickly retracted, and K2's status as second highest was reaffirmed.\", 'title': 'List of past presumed highest mountains'}}, {'id': '2hop__487291_78529_3', 'distance': 0.7007313370704651, 'entity': {'text': \"Chimborazo, 6,267 metres (20,561 ft). Presumed highest from sixteenth century until the beginning of the 19th century. Not in the top 100 highest mountains when measured from sea level, however due to the earth's equatorial bulge this is the farthest point from the Earth's center. Nanda Devi, 7,816 metres (25,643 ft). Presumed highest in the world before Kangchenjunga was sighted in an era when Nepal was still closed to the outside world. Now known to be the 23rd highest mountain in the world. Dhaulagiri, 8,167 metres (26,795 ft). Presumed highest from 1808 until 1847. Now known to be the 7th highest mountain in the world. Kangchenjunga, 8,586 metres (28,169 ft). Presumed highest from 1847 until 1852. Now known to be the 3rd highest mountain in the world. Mount Everest, 8,848 metres (29,029 ft). Established as highest in 1852 and officially confirmed in 1856. K2, 8,611 metres (28,251 ft). Discovered in 1856 before Mt. Everest was officially confirmed, K2's elevation became something of an enigma until it was officially resolved at a later date. News media reported in 1986 that satellite measurements by the University of Washington during an expedition to K2 by George Wallenstein had given a height between 29,064 feet (8,859 m) and 29,228 feet (8,909 m). This erroneous figure was quickly retracted, and K2's status as second highest was reaffirmed.\", 'title': 'List of past presumed highest mountains'}}, {'id': '2hop__657848_78529_8', 'distance': 0.7007313370704651, 'entity': {'text': \"Chimborazo, 6,267 metres (20,561 ft). Presumed highest from sixteenth century until the beginning of the 19th century. Not in the top 100 highest mountains when measured from sea level, however due to the earth's equatorial bulge this is the farthest point from the Earth's center. Nanda Devi, 7,816 metres (25,643 ft). Presumed highest in the world before Kangchenjunga was sighted in an era when Nepal was still closed to the outside world. Now known to be the 23rd highest mountain in the world. Dhaulagiri, 8,167 metres (26,795 ft). Presumed highest from 1808 until 1847. Now known to be the 7th highest mountain in the world. Kangchenjunga, 8,586 metres (28,169 ft). Presumed highest from 1847 until 1852. Now known to be the 3rd highest mountain in the world. Mount Everest, 8,848 metres (29,029 ft). Established as highest in 1852 and officially confirmed in 1856. K2, 8,611 metres (28,251 ft). Discovered in 1856 before Mt. Everest was officially confirmed, K2's elevation became something of an enigma until it was officially resolved at a later date. News media reported in 1986 that satellite measurements by the University of Washington during an expedition to K2 by George Wallenstein had given a height between 29,064 feet (8,859 m) and 29,228 feet (8,909 m). This erroneous figure was quickly retracted, and K2's status as second highest was reaffirmed.\", 'title': 'List of past presumed highest mountains'}}, {'id': '2hop__171605_78529_9', 'distance': 0.7007313370704651, 'entity': {'text': \"Chimborazo, 6,267 metres (20,561 ft). Presumed highest from sixteenth century until the beginning of the 19th century. Not in the top 100 highest mountains when measured from sea level, however due to the earth's equatorial bulge this is the farthest point from the Earth's center. Nanda Devi, 7,816 metres (25,643 ft). Presumed highest in the world before Kangchenjunga was sighted in an era when Nepal was still closed to the outside world. Now known to be the 23rd highest mountain in the world. Dhaulagiri, 8,167 metres (26,795 ft). Presumed highest from 1808 until 1847. Now known to be the 7th highest mountain in the world. Kangchenjunga, 8,586 metres (28,169 ft). Presumed highest from 1847 until 1852. Now known to be the 3rd highest mountain in the world. Mount Everest, 8,848 metres (29,029 ft). Established as highest in 1852 and officially confirmed in 1856. K2, 8,611 metres (28,251 ft). Discovered in 1856 before Mt. Everest was officially confirmed, K2's elevation became something of an enigma until it was officially resolved at a later date. News media reported in 1986 that satellite measurements by the University of Washington during an expedition to K2 by George Wallenstein had given a height between 29,064 feet (8,859 m) and 29,228 feet (8,909 m). This erroneous figure was quickly retracted, and K2's status as second highest was reaffirmed.\", 'title': 'List of past presumed highest mountains'}}, {'id': '2hop__843352_78529_8', 'distance': 0.7007313370704651, 'entity': {'text': \"Chimborazo, 6,267 metres (20,561 ft). Presumed highest from sixteenth century until the beginning of the 19th century. Not in the top 100 highest mountains when measured from sea level, however due to the earth's equatorial bulge this is the farthest point from the Earth's center. Nanda Devi, 7,816 metres (25,643 ft). Presumed highest in the world before Kangchenjunga was sighted in an era when Nepal was still closed to the outside world. Now known to be the 23rd highest mountain in the world. Dhaulagiri, 8,167 metres (26,795 ft). Presumed highest from 1808 until 1847. Now known to be the 7th highest mountain in the world. Kangchenjunga, 8,586 metres (28,169 ft). Presumed highest from 1847 until 1852. Now known to be the 3rd highest mountain in the world. Mount Everest, 8,848 metres (29,029 ft). Established as highest in 1852 and officially confirmed in 1856. K2, 8,611 metres (28,251 ft). Discovered in 1856 before Mt. Everest was officially confirmed, K2's elevation became something of an enigma until it was officially resolved at a later date. News media reported in 1986 that satellite measurements by the University of Washington during an expedition to K2 by George Wallenstein had given a height between 29,064 feet (8,859 m) and 29,228 feet (8,909 m). This erroneous figure was quickly retracted, and K2's status as second highest was reaffirmed.\", 'title': 'List of past presumed highest mountains'}}, {'id': '2hop__25953_872_17', 'distance': 0.6762502193450928, 'entity': {'text': \"Mount Everest, known in Nepali as Sagarmatha (सगरमाथा) and in Tibetan as Chomolungma (ཇོ ་ མོ ་ གླང ་ མ), is Earth's highest mountain above sea level, located in the Mahalangur Himal sub-range of the Himalayas. The international border between Nepal (Province No. 1) and China (Tibet Autonomous Region) runs across its summit point.\", 'title': 'Mount Everest'}}, {'id': '2hop__487291_26603_2', 'distance': 0.6288071870803833, 'entity': {'text': \"Tibet has some of the world's tallest mountains, with several of them making the top ten list. Mount Everest, located on the border with Nepal, is, at 8,848 metres (29,029 ft), the highest mountain on earth. Several major rivers have their source in the Tibetan Plateau (mostly in present-day Qinghai Province). These include the Yangtze, Yellow River, Indus River, Mekong, Ganges, Salween and the Yarlung Tsangpo River (Brahmaputra River). The Yarlung Tsangpo Grand Canyon, along the Yarlung Tsangpo River, is among the deepest and longest canyons in the world.\", 'title': 'Tibet'}}, {'id': '2hop__657848_26603_17', 'distance': 0.626742959022522, 'entity': {'text': \"Tibet has some of the world's tallest mountains, with several of them making the top ten list. Mount Everest, located on the border with Nepal, is, at 8,848 metres (29,029 ft), the highest mountain on earth. Several major rivers have their source in the Tibetan Plateau (mostly in present-day Qinghai Province). These include the Yangtze, Yellow River, Indus River, Mekong, Ganges, Salween and the Yarlung Tsangpo River (Brahmaputra River). The Yarlung Tsangpo Grand Canyon, along the Yarlung Tsangpo River, is among the deepest and longest canyons in the world.\", 'title': 'Tibet'}}, {'id': '2hop__843352_26603_8', 'distance': 0.626742959022522, 'entity': {'text': \"Tibet has some of the world's tallest mountains, with several of them making the top ten list. Mount Everest, located on the border with Nepal, is, at 8,848 metres (29,029 ft), the highest mountain on earth. Several major rivers have their source in the Tibetan Plateau (mostly in present-day Qinghai Province). These include the Yangtze, Yellow River, Indus River, Mekong, Ganges, Salween and the Yarlung Tsangpo River (Brahmaputra River). The Yarlung Tsangpo Grand Canyon, along the Yarlung Tsangpo River, is among the deepest and longest canyons in the world.\", 'title': 'Tibet'}}, {'id': '2hop__171605_26603_3', 'distance': 0.6266701221466064, 'entity': {'text': \"Tibet has some of the world's tallest mountains, with several of them making the top ten list. Mount Everest, located on the border with Nepal, is, at 8,848 metres (29,029 ft), the highest mountain on earth. Several major rivers have their source in the Tibetan Plateau (mostly in present-day Qinghai Province). These include the Yangtze, Yellow River, Indus River, Mekong, Ganges, Salween and the Yarlung Tsangpo River (Brahmaputra River). The Yarlung Tsangpo Grand Canyon, along the Yarlung Tsangpo River, is among the deepest and longest canyons in the world.\", 'title': 'Tibet'}}] ... and 40 entities remaining, [{'id': '3hop1__785514_299916_73944_3', 'distance': 0.6583368182182312, 'entity': {'text': 'The United States presidential election of 1788 -- 89 was the first quadrennial presidential election. It was held from Monday, December 15, 1788, to Saturday, January 10, 1789. It was conducted under the new United States Constitution, which had been ratified earlier in 1788. In the election, George Washington was unanimously elected for the first of his two terms as president, and John Adams became the first vice president.', 'title': '1788–89 United States presidential election'}}, {'id': '3hop1__769887_299916_73944_0', 'distance': 0.6583368182182312, 'entity': {'text': 'The United States presidential election of 1788 -- 89 was the first quadrennial presidential election. It was held from Monday, December 15, 1788, to Saturday, January 10, 1789. It was conducted under the new United States Constitution, which had been ratified earlier in 1788. In the election, George Washington was unanimously elected for the first of his two terms as president, and John Adams became the first vice president.', 'title': '1788–89 United States presidential election'}}, {'id': '3hop1__654083_299916_73944_14', 'distance': 0.6583368182182312, 'entity': {'text': 'The United States presidential election of 1788 -- 89 was the first quadrennial presidential election. It was held from Monday, December 15, 1788, to Saturday, January 10, 1789. It was conducted under the new United States Constitution, which had been ratified earlier in 1788. In the election, George Washington was unanimously elected for the first of his two terms as president, and John Adams became the first vice president.', 'title': '1788–89 United States presidential election'}}, {'id': '2hop__130036_90450_17', 'distance': 0.644940197467804, 'entity': {'text': 'George Washington -- a renowned hero of the American Revolutionary War, commander - in - chief of the Continental Army, and president of the Constitutional Convention -- became the first President of the United States under the new Constitution in 1789. The national capital moved from New York to Philadelphia and finally settled in Washington DC in 1800.', 'title': 'History of the United States'}}, {'id': '2hop__130490_90450_1', 'distance': 0.644940197467804, 'entity': {'text': 'George Washington -- a renowned hero of the American Revolutionary War, commander - in - chief of the Continental Army, and president of the Constitutional Convention -- became the first President of the United States under the new Constitution in 1789. The national capital moved from New York to Philadelphia and finally settled in Washington DC in 1800.', 'title': 'History of the United States'}}, {'id': '2hop__533027_90450_8', 'distance': 0.644940197467804, 'entity': {'text': 'George Washington -- a renowned hero of the American Revolutionary War, commander - in - chief of the Continental Army, and president of the Constitutional Convention -- became the first President of the United States under the new Constitution in 1789. The national capital moved from New York to Philadelphia and finally settled in Washington DC in 1800.', 'title': 'History of the United States'}}, {'id': '2hop__65069_90450_14', 'distance': 0.644940197467804, 'entity': {'text': 'George Washington -- a renowned hero of the American Revolutionary War, commander - in - chief of the Continental Army, and president of the Constitutional Convention -- became the first President of the United States under the new Constitution in 1789. The national capital moved from New York to Philadelphia and finally settled in Washington DC in 1800.', 'title': 'History of the United States'}}, {'id': '2hop__30878_90450_17', 'distance': 0.6438891291618347, 'entity': {'text': 'George Washington -- a renowned hero of the American Revolutionary War, commander - in - chief of the Continental Army, and president of the Constitutional Convention -- became the first President of the United States under the new Constitution in 1789. The national capital moved from New York to Philadelphia and finally settled in Washington DC in 1800.', 'title': 'History of the United States'}}, {'id': '3hop1__84722_52205_55099_3', 'distance': 0.6295948624610901, 'entity': {'text': 'Fourteen men served as president of Congress. The first was Peyton Randolph, who was elected on September 5, 1774. The last president, Cyrus Griffin, resigned in November 1788. President John Hancock is remembered for his large, bold signature on the Declaration of Independence, which was adopted and signed during his presidency.', 'title': 'President of the Continental Congress'}}, {'id': '3hop1__4525_52205_55099_12', 'distance': 0.6295948624610901, 'entity': {'text': 'Fourteen men served as president of Congress. The first was Peyton Randolph, who was elected on September 5, 1774. The last president, Cyrus Griffin, resigned in November 1788. President John Hancock is remembered for his large, bold signature on the Declaration of Independence, which was adopted and signed during his presidency.', 'title': 'President of the Continental Congress'}}] ... and 40 entities remaining],{'cost': 11}"
      ]
     },
     "execution_count": 14,
     "metadata": {},
     "output_type": "execute_result"
    }
   ],
   "source": [
    "# 在Milvus中进行搜索\n",
    "results = client.search(\n",
    "    collection_name=MILVUS_COLLECTION_NAME,\n",
    "    data=query_vector,\n",
    "    anns_field=\"vector\",  # 您在Milvus中定义的向量字段名\n",
    "    search_params={\"metric_type\": \"IP\", \"params\": {}},\n",
    "    limit=50,\n",
    "    output_fields=[\"text\", \"title\"],  # 输出字段包括文本和ID\n",
    ")\n",
    "results"
   ]
  },
  {
   "cell_type": "code",
   "execution_count": 15,
   "id": "bd85a112",
   "metadata": {},
   "outputs": [
    {
     "data": {
      "text/plain": [
       "2"
      ]
     },
     "execution_count": 15,
     "metadata": {},
     "output_type": "execute_result"
    }
   ],
   "source": [
    "len(results)"
   ]
  },
  {
   "cell_type": "code",
   "execution_count": 46,
   "id": "b3f6d24f",
   "metadata": {},
   "outputs": [
    {
     "data": {
      "text/plain": [
       "[\"Chimborazo, 6,267 metres (20,561 ft). Presumed highest from sixteenth century until the beginning of the 19th century. Not in the top 100 highest mountains when measured from sea level, however due to the earth's equatorial bulge this is the farthest point from the Earth's center. Nanda Devi, 7,816 metres (25,643 ft). Presumed highest in the world before Kangchenjunga was sighted in an era when Nepal was still closed to the outside world. Now known to be the 23rd highest mountain in the world. Dhaulagiri, 8,167 metres (26,795 ft). Presumed highest from 1808 until 1847. Now known to be the 7th highest mountain in the world. Kangchenjunga, 8,586 metres (28,169 ft). Presumed highest from 1847 until 1852. Now known to be the 3rd highest mountain in the world. Mount Everest, 8,848 metres (29,029 ft). Established as highest in 1852 and officially confirmed in 1856. K2, 8,611 metres (28,251 ft). Discovered in 1856 before Mt. Everest was officially confirmed, K2's elevation became something of an enigma until it was officially resolved at a later date. News media reported in 1986 that satellite measurements by the University of Washington during an expedition to K2 by George Wallenstein had given a height between 29,064 feet (8,859 m) and 29,228 feet (8,909 m). This erroneous figure was quickly retracted, and K2's status as second highest was reaffirmed.\",\n",
       " \"Mount Everest, known in Nepali as Sagarmatha (सगरमाथा) and in Tibetan as Chomolungma (ཇོ ་ མོ ་ གླང ་ མ), is Earth's highest mountain above sea level, located in the Mahalangur Himal sub-range of the Himalayas. The international border between Nepal (Province No. 1) and China (Tibet Autonomous Region) runs across its summit point.\",\n",
       " \"Tibet has some of the world's tallest mountains, with several of them making the top ten list. Mount Everest, located on the border with Nepal, is, at 8,848 metres (29,029 ft), the highest mountain on earth. Several major rivers have their source in the Tibetan Plateau (mostly in present-day Qinghai Province). These include the Yangtze, Yellow River, Indus River, Mekong, Ganges, Salween and the Yarlung Tsangpo River (Brahmaputra River). The Yarlung Tsangpo Grand Canyon, along the Yarlung Tsangpo River, is among the deepest and longest canyons in the world.\",\n",
       " \"The world's longest above - water mountain range is the Andes, about 7,000 km (4,300 mi) long. The range stretches from north to south through seven countries in South America, along the west coast of the continent: Venezuela, Colombia, Ecuador, Peru, Bolivia, Chile, and Argentina. Aconcagua is the highest peak, at about 6,962 m (22,841 ft).\",\n",
       " 'Tongshanjiabu is a mountain in the Himalayas. At tall, Tongshanjiabu is the 103rd tallest mountain in the world. It sits in the disputed border territory between Bhutan and China. Tongshanjiabu has never been officially climbed.',\n",
       " \"Roof of the World is a metaphoric description of the high region in the world, also known as ``High Asia ''. The term usually refers to the mountainous interior of Asia, i.e. the Himalayas.\",\n",
       " 'The Matterhorn (German: Matterhorn, (ˈmatərˌhɔrn); Italian: Cervino, (ˈtʃerˈviːno); French: Le Cervin, (mɔ̃ sɛʁvɛ̃)) is a mountain of the Alps, straddling the main watershed and border between Switzerland and Italy. It is a large, near - symmetrical pyramidal peak in the extended Monte Rosa area of the Pennine Alps, whose summit is 4,478 metres (14,692 ft) high, making it one of the highest summits in the Alps and Europe. The four steep faces, rising above the surrounding glaciers, face the four compass points and are split by the Hörnli, Furggen, Leone, and Zmutt ridges. The mountain overlooks the Swiss town of Zermatt, in the canton of Valais, to the north - east and the Italian town of Breuil - Cervinia in the Aosta Valley to the south. Just east of the Matterhorn is Theodul Pass, the main passage between the two valleys on its north and south sides, and a trade route since the Roman Era.']"
      ]
     },
     "execution_count": 46,
     "metadata": {},
     "output_type": "execute_result"
    }
   ],
   "source": [
    "seen_texts = set()\n",
    "text = [item[\"entity\"][\"text\"] for item in results[0] if item[\"entity\"][\"title\"] not in seen_texts and not seen_texts.add(item[\"entity\"][\"title\"])]\n",
    "\n",
    "text"
   ]
  },
  {
   "cell_type": "code",
   "execution_count": 50,
   "id": "d50815b0",
   "metadata": {},
   "outputs": [
    {
     "data": {
      "text/plain": [
       "[{'corpus_id': 4,\n",
       "  'score': tensor(0.6836, device='cuda:0', dtype=torch.bfloat16),\n",
       "  'text': 'Tongshanjiabu is a mountain in the Himalayas. At tall, Tongshanjiabu is the 103rd tallest mountain in the world. It sits in the disputed border territory between Bhutan and China. Tongshanjiabu has never been officially climbed.'},\n",
       " {'corpus_id': 1,\n",
       "  'score': tensor(0.6602, device='cuda:0', dtype=torch.bfloat16),\n",
       "  'text': \"Mount Everest, known in Nepali as Sagarmatha (सगरमाथा) and in Tibetan as Chomolungma (ཇོ ་ མོ ་ གླང ་ མ), is Earth's highest mountain above sea level, located in the Mahalangur Himal sub-range of the Himalayas. The international border between Nepal (Province No. 1) and China (Tibet Autonomous Region) runs across its summit point.\"},\n",
       " {'corpus_id': 6,\n",
       "  'score': tensor(0.6523, device='cuda:0', dtype=torch.bfloat16),\n",
       "  'text': 'The Matterhorn (German: Matterhorn, (ˈmatərˌhɔrn); Italian: Cervino, (ˈtʃerˈviːno); French: Le Cervin, (mɔ̃ sɛʁvɛ̃)) is a mountain of the Alps, straddling the main watershed and border between Switzerland and Italy. It is a large, near - symmetrical pyramidal peak in the extended Monte Rosa area of the Pennine Alps, whose summit is 4,478 metres (14,692 ft) high, making it one of the highest summits in the Alps and Europe. The four steep faces, rising above the surrounding glaciers, face the four compass points and are split by the Hörnli, Furggen, Leone, and Zmutt ridges. The mountain overlooks the Swiss town of Zermatt, in the canton of Valais, to the north - east and the Italian town of Breuil - Cervinia in the Aosta Valley to the south. Just east of the Matterhorn is Theodul Pass, the main passage between the two valleys on its north and south sides, and a trade route since the Roman Era.'},\n",
       " {'corpus_id': 2,\n",
       "  'score': tensor(0.6367, device='cuda:0', dtype=torch.bfloat16),\n",
       "  'text': \"Tibet has some of the world's tallest mountains, with several of them making the top ten list. Mount Everest, located on the border with Nepal, is, at 8,848 metres (29,029 ft), the highest mountain on earth. Several major rivers have their source in the Tibetan Plateau (mostly in present-day Qinghai Province). These include the Yangtze, Yellow River, Indus River, Mekong, Ganges, Salween and the Yarlung Tsangpo River (Brahmaputra River). The Yarlung Tsangpo Grand Canyon, along the Yarlung Tsangpo River, is among the deepest and longest canyons in the world.\"},\n",
       " {'corpus_id': 0,\n",
       "  'score': tensor(0.3320, device='cuda:0', dtype=torch.bfloat16),\n",
       "  'text': \"Chimborazo, 6,267 metres (20,561 ft). Presumed highest from sixteenth century until the beginning of the 19th century. Not in the top 100 highest mountains when measured from sea level, however due to the earth's equatorial bulge this is the farthest point from the Earth's center. Nanda Devi, 7,816 metres (25,643 ft). Presumed highest in the world before Kangchenjunga was sighted in an era when Nepal was still closed to the outside world. Now known to be the 23rd highest mountain in the world. Dhaulagiri, 8,167 metres (26,795 ft). Presumed highest from 1808 until 1847. Now known to be the 7th highest mountain in the world. Kangchenjunga, 8,586 metres (28,169 ft). Presumed highest from 1847 until 1852. Now known to be the 3rd highest mountain in the world. Mount Everest, 8,848 metres (29,029 ft). Established as highest in 1852 and officially confirmed in 1856. K2, 8,611 metres (28,251 ft). Discovered in 1856 before Mt. Everest was officially confirmed, K2's elevation became something of an enigma until it was officially resolved at a later date. News media reported in 1986 that satellite measurements by the University of Washington during an expedition to K2 by George Wallenstein had given a height between 29,064 feet (8,859 m) and 29,228 feet (8,909 m). This erroneous figure was quickly retracted, and K2's status as second highest was reaffirmed.\"},\n",
       " {'corpus_id': 3,\n",
       "  'score': tensor(0.2178, device='cuda:0', dtype=torch.bfloat16),\n",
       "  'text': \"The world's longest above - water mountain range is the Andes, about 7,000 km (4,300 mi) long. The range stretches from north to south through seven countries in South America, along the west coast of the continent: Venezuela, Colombia, Ecuador, Peru, Bolivia, Chile, and Argentina. Aconcagua is the highest peak, at about 6,962 m (22,841 ft).\"},\n",
       " {'corpus_id': 5,\n",
       "  'score': tensor(0.1035, device='cuda:0', dtype=torch.bfloat16),\n",
       "  'text': \"Roof of the World is a metaphoric description of the high region in the world, also known as ``High Asia ''. The term usually refers to the mountainous interior of Asia, i.e. the Himalayas.\"}]"
      ]
     },
     "execution_count": 50,
     "metadata": {},
     "output_type": "execute_result"
    }
   ],
   "source": [
    "def format_queries(query, instruction=None):\n",
    "    prefix = '<|im_start|>system\\nJudge whether the Document meets the requirements based on the Query and the Instruct provided. \\\n",
    "        Note that the answer can only be \"yes\" or \"no\".<|im_end|>\\n<|im_start|>user\\n'\n",
    "    if instruction is None:\n",
    "        instruction = (\n",
    "            \"Given a web search query, retrieve relevant passages that answer the query\"\n",
    "        )\n",
    "    return f\"{prefix}<Instruct>: {instruction}\\n<Query>: {query}\\n\"\n",
    "\n",
    "\n",
    "def format_document(document):\n",
    "    suffix = \"<|im_end|>\\n<|im_start|>assistant\\n<think>\\n\\n</think>\\n\\n\"\n",
    "    return f\"<Document>: {document}{suffix}\"\n",
    "\n",
    "\n",
    "task = \"Given a web search query, retrieve relevant passages that answer the query\"\n",
    "\n",
    "query = format_queries(query, task)\n",
    "documents = [format_document(doc) for doc in text]\n",
    "\n",
    "ranks = reranker_model.rank(\n",
    "    query=query, documents=text, convert_to_tensor=True, return_documents=True\n",
    ")\n",
    "\n",
    "ranks"
   ]
  },
  {
   "cell_type": "code",
   "execution_count": 48,
   "id": "2e2d291f",
   "metadata": {},
   "outputs": [
    {
     "data": {
      "text/plain": [
       "[{'corpus_id': 0,\n",
       "  'score': tensor(0.9922, device='cuda:0', dtype=torch.bfloat16),\n",
       "  'text': \"<Document>: Chimborazo, 6,267 metres (20,561 ft). Presumed highest from sixteenth century until the beginning of the 19th century. Not in the top 100 highest mountains when measured from sea level, however due to the earth's equatorial bulge this is the farthest point from the Earth's center. Nanda Devi, 7,816 metres (25,643 ft). Presumed highest in the world before Kangchenjunga was sighted in an era when Nepal was still closed to the outside world. Now known to be the 23rd highest mountain in the world. Dhaulagiri, 8,167 metres (26,795 ft). Presumed highest from 1808 until 1847. Now known to be the 7th highest mountain in the world. Kangchenjunga, 8,586 metres (28,169 ft). Presumed highest from 1847 until 1852. Now known to be the 3rd highest mountain in the world. Mount Everest, 8,848 metres (29,029 ft). Established as highest in 1852 and officially confirmed in 1856. K2, 8,611 metres (28,251 ft). Discovered in 1856 before Mt. Everest was officially confirmed, K2's elevation became something of an enigma until it was officially resolved at a later date. News media reported in 1986 that satellite measurements by the University of Washington during an expedition to K2 by George Wallenstein had given a height between 29,064 feet (8,859 m) and 29,228 feet (8,909 m). This erroneous figure was quickly retracted, and K2's status as second highest was reaffirmed.<|im_end|>\\n<|im_start|>assistant\\n<think>\\n\\n</think>\\n\\n\"},\n",
       " {'corpus_id': 2,\n",
       "  'score': tensor(0.9922, device='cuda:0', dtype=torch.bfloat16),\n",
       "  'text': \"<Document>: Tibet has some of the world's tallest mountains, with several of them making the top ten list. Mount Everest, located on the border with Nepal, is, at 8,848 metres (29,029 ft), the highest mountain on earth. Several major rivers have their source in the Tibetan Plateau (mostly in present-day Qinghai Province). These include the Yangtze, Yellow River, Indus River, Mekong, Ganges, Salween and the Yarlung Tsangpo River (Brahmaputra River). The Yarlung Tsangpo Grand Canyon, along the Yarlung Tsangpo River, is among the deepest and longest canyons in the world.<|im_end|>\\n<|im_start|>assistant\\n<think>\\n\\n</think>\\n\\n\"},\n",
       " {'corpus_id': 1,\n",
       "  'score': tensor(0.9844, device='cuda:0', dtype=torch.bfloat16),\n",
       "  'text': \"<Document>: Mount Everest, known in Nepali as Sagarmatha (सगरमाथा) and in Tibetan as Chomolungma (ཇོ ་ མོ ་ གླང ་ མ), is Earth's highest mountain above sea level, located in the Mahalangur Himal sub-range of the Himalayas. The international border between Nepal (Province No. 1) and China (Tibet Autonomous Region) runs across its summit point.<|im_end|>\\n<|im_start|>assistant\\n<think>\\n\\n</think>\\n\\n\"},\n",
       " {'corpus_id': 3,\n",
       "  'score': tensor(0.9570, device='cuda:0', dtype=torch.bfloat16),\n",
       "  'text': \"<Document>: The world's longest above - water mountain range is the Andes, about 7,000 km (4,300 mi) long. The range stretches from north to south through seven countries in South America, along the west coast of the continent: Venezuela, Colombia, Ecuador, Peru, Bolivia, Chile, and Argentina. Aconcagua is the highest peak, at about 6,962 m (22,841 ft).<|im_end|>\\n<|im_start|>assistant\\n<think>\\n\\n</think>\\n\\n\"},\n",
       " {'corpus_id': 4,\n",
       "  'score': tensor(0.4414, device='cuda:0', dtype=torch.bfloat16),\n",
       "  'text': '<Document>: Tongshanjiabu is a mountain in the Himalayas. At tall, Tongshanjiabu is the 103rd tallest mountain in the world. It sits in the disputed border territory between Bhutan and China. Tongshanjiabu has never been officially climbed.<|im_end|>\\n<|im_start|>assistant\\n<think>\\n\\n</think>\\n\\n'},\n",
       " {'corpus_id': 6,\n",
       "  'score': tensor(0.0420, device='cuda:0', dtype=torch.bfloat16),\n",
       "  'text': '<Document>: The Matterhorn (German: Matterhorn, (ˈmatərˌhɔrn); Italian: Cervino, (ˈtʃerˈviːno); French: Le Cervin, (mɔ̃ sɛʁvɛ̃)) is a mountain of the Alps, straddling the main watershed and border between Switzerland and Italy. It is a large, near - symmetrical pyramidal peak in the extended Monte Rosa area of the Pennine Alps, whose summit is 4,478 metres (14,692 ft) high, making it one of the highest summits in the Alps and Europe. The four steep faces, rising above the surrounding glaciers, face the four compass points and are split by the Hörnli, Furggen, Leone, and Zmutt ridges. The mountain overlooks the Swiss town of Zermatt, in the canton of Valais, to the north - east and the Italian town of Breuil - Cervinia in the Aosta Valley to the south. Just east of the Matterhorn is Theodul Pass, the main passage between the two valleys on its north and south sides, and a trade route since the Roman Era.<|im_end|>\\n<|im_start|>assistant\\n<think>\\n\\n</think>\\n\\n'},\n",
       " {'corpus_id': 5,\n",
       "  'score': tensor(0.0028, device='cuda:0', dtype=torch.bfloat16),\n",
       "  'text': \"<Document>: Roof of the World is a metaphoric description of the high region in the world, also known as ``High Asia ''. The term usually refers to the mountainous interior of Asia, i.e. the Himalayas.<|im_end|>\\n<|im_start|>assistant\\n<think>\\n\\n</think>\\n\\n\"}]"
      ]
     },
     "execution_count": 48,
     "metadata": {},
     "output_type": "execute_result"
    }
   ],
   "source": [
    "ranks = reranker_model.rank(\n",
    "    query=query, documents=documents, convert_to_tensor=True, return_documents=True\n",
    ")\n",
    "ranks"
   ]
  },
  {
   "cell_type": "code",
   "execution_count": 58,
   "id": "02362074",
   "metadata": {},
   "outputs": [
    {
     "data": {
      "text/plain": [
       "data: ['{\\'text\\': \"Chimborazo, 6,267 metres (20,561 ft). Presumed highest from sixteenth century until the beginning of the 19th century. Not in the top 100 highest mountains when measured from sea level, however due to the earth\\'s equatorial bulge this is the farthest point from the Earth\\'s center. Nanda Devi, 7,816 metres (25,643 ft). Presumed highest in the world before Kangchenjunga was sighted in an era when Nepal was still closed to the outside world. Now known to be the 23rd highest mountain in the world. Dhaulagiri, 8,167 metres (26,795 ft). Presumed highest from 1808 until 1847. Now known to be the 7th highest mountain in the world. Kangchenjunga, 8,586 metres (28,169 ft). Presumed highest from 1847 until 1852. Now known to be the 3rd highest mountain in the world. Mount Everest, 8,848 metres (29,029 ft). Established as highest in 1852 and officially confirmed in 1856. K2, 8,611 metres (28,251 ft). Discovered in 1856 before Mt. Everest was officially confirmed, K2\\'s elevation became something of an enigma until it was officially resolved at a later date. News media reported in 1986 that satellite measurements by the University of Washington during an expedition to K2 by George Wallenstein had given a height between 29,064 feet (8,859 m) and 29,228 feet (8,909 m). This erroneous figure was quickly retracted, and K2\\'s status as second highest was reaffirmed.\", \\'title\\': \\'List of past presumed highest mountains\\', \\'id\\': \\'2hop__47005_159536_16\\'}'], extra_info: {'cost': 11}"
      ]
     },
     "execution_count": 58,
     "metadata": {},
     "output_type": "execute_result"
    }
   ],
   "source": [
    "result = client.query(\n",
    "        collection_name=MILVUS_COLLECTION_NAME,\n",
    "        ids=\"2hop__47005_159536_16\",\n",
    "        output_fields=[\"text\", \"title\"],\n",
    "    )\n",
    "result"
   ]
  },
  {
   "cell_type": "code",
   "execution_count": 61,
   "id": "7bddd26a",
   "metadata": {},
   "outputs": [
    {
     "data": {
      "text/plain": [
       "{'text': \"Chimborazo, 6,267 metres (20,561 ft). Presumed highest from sixteenth century until the beginning of the 19th century. Not in the top 100 highest mountains when measured from sea level, however due to the earth's equatorial bulge this is the farthest point from the Earth's center. Nanda Devi, 7,816 metres (25,643 ft). Presumed highest in the world before Kangchenjunga was sighted in an era when Nepal was still closed to the outside world. Now known to be the 23rd highest mountain in the world. Dhaulagiri, 8,167 metres (26,795 ft). Presumed highest from 1808 until 1847. Now known to be the 7th highest mountain in the world. Kangchenjunga, 8,586 metres (28,169 ft). Presumed highest from 1847 until 1852. Now known to be the 3rd highest mountain in the world. Mount Everest, 8,848 metres (29,029 ft). Established as highest in 1852 and officially confirmed in 1856. K2, 8,611 metres (28,251 ft). Discovered in 1856 before Mt. Everest was officially confirmed, K2's elevation became something of an enigma until it was officially resolved at a later date. News media reported in 1986 that satellite measurements by the University of Washington during an expedition to K2 by George Wallenstein had given a height between 29,064 feet (8,859 m) and 29,228 feet (8,909 m). This erroneous figure was quickly retracted, and K2's status as second highest was reaffirmed.\",\n",
       " 'title': 'List of past presumed highest mountains',\n",
       " 'id': '2hop__47005_159536_16'}"
      ]
     },
     "execution_count": 61,
     "metadata": {},
     "output_type": "execute_result"
    }
   ],
   "source": [
    "result[0]"
   ]
  }
 ],
 "metadata": {
  "kernelspec": {
   "display_name": "shallow-search",
   "language": "python",
   "name": "python3"
  },
  "language_info": {
   "codemirror_mode": {
    "name": "ipython",
    "version": 3
   },
   "file_extension": ".py",
   "mimetype": "text/x-python",
   "name": "python",
   "nbconvert_exporter": "python",
   "pygments_lexer": "ipython3",
   "version": "3.10.18"
  }
 },
 "nbformat": 4,
 "nbformat_minor": 5
}
